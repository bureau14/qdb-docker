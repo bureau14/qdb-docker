{
 "metadata": {
  "name": "",
  "signature": "sha256:91ef1be97d0d571898f748d9ccc8f0db6ea398f91506f14f344673ec4f4ff1d0"
 },
 "nbformat": 3,
 "nbformat_minor": 0,
 "worksheets": [
  {
   "cells": [
    {
     "cell_type": "markdown",
     "metadata": {},
     "source": [
      "Finding the internal IP of the docker conatainer to build connect string"
     ]
    },
    {
     "cell_type": "code",
     "collapsed": false,
     "input": [
      "import socket\n",
      "ip =socket.gethostbyname(socket.gethostname())\n",
      "qdb_connect_string=\"qdb://\"+ip+\":2836\"\n",
      "print qdb_connect_string"
     ],
     "language": "python",
     "metadata": {},
     "outputs": [
      {
       "output_type": "stream",
       "stream": "stdout",
       "text": [
        "qdb://172.17.0.2:2836\n"
       ]
      }
     ],
     "prompt_number": 1
    },
    {
     "cell_type": "markdown",
     "metadata": {},
     "source": [
      "connecting to server"
     ]
    },
    {
     "cell_type": "code",
     "collapsed": false,
     "input": [
      "import quasardb\n",
      "c = quasardb.Cluster(qdb_connect_string)"
     ],
     "language": "python",
     "metadata": {},
     "outputs": [],
     "prompt_number": 8
    },
    {
     "cell_type": "markdown",
     "metadata": {},
     "source": [
      "basic insert/remove demo"
     ]
    },
    {
     "cell_type": "code",
     "collapsed": false,
     "input": [
      "b = c.blob(\"hello\")"
     ],
     "language": "python",
     "metadata": {},
     "outputs": [],
     "prompt_number": 4
    },
    {
     "cell_type": "code",
     "collapsed": false,
     "input": [
      "b.put(\"wolrd!\")"
     ],
     "language": "python",
     "metadata": {},
     "outputs": [],
     "prompt_number": 5
    },
    {
     "cell_type": "code",
     "collapsed": false,
     "input": [
      "print b.get()"
     ],
     "language": "python",
     "metadata": {},
     "outputs": [
      {
       "output_type": "stream",
       "stream": "stdout",
       "text": [
        "wolrd!\n"
       ]
      }
     ],
     "prompt_number": 6
    },
    {
     "cell_type": "code",
     "collapsed": false,
     "input": [
      "b.remove()"
     ],
     "language": "python",
     "metadata": {},
     "outputs": [],
     "prompt_number": 7
    },
    {
     "cell_type": "code",
     "collapsed": false,
     "input": [],
     "language": "python",
     "metadata": {},
     "outputs": []
    }
   ],
   "metadata": {}
  }
 ]
}